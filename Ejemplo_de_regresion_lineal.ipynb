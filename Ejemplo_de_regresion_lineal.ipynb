{
  "nbformat": 4,
  "nbformat_minor": 0,
  "metadata": {
    "colab": {
      "provenance": [],
      "authorship_tag": "ABX9TyPkMAuW8cEwtT2B8l4pVane",
      "include_colab_link": true
    },
    "kernelspec": {
      "name": "python3",
      "display_name": "Python 3"
    },
    "language_info": {
      "name": "python"
    }
  },
  "cells": [
    {
      "cell_type": "markdown",
      "metadata": {
        "id": "view-in-github",
        "colab_type": "text"
      },
      "source": [
        "<a href=\"https://colab.research.google.com/github/Sheilaro24/Poryectos-web/blob/main/Ejemplo_de_regresion_lineal.ipynb\" target=\"_parent\"><img src=\"https://colab.research.google.com/assets/colab-badge.svg\" alt=\"Open In Colab\"/></a>"
      ]
    },
    {
      "cell_type": "code",
      "execution_count": null,
      "metadata": {
        "id": "sPDl18Amt4Au"
      },
      "outputs": [],
      "source": []
    },
    {
      "cell_type": "markdown",
      "source": [
        "**Ejemplo de regresion linean usando TensorFlow**"
      ],
      "metadata": {
        "id": "519KChNRwpoX"
      }
    },
    {
      "cell_type": "code",
      "source": [
        "import tensorflow as tf\n",
        "import numpy as np\n",
        "import random\n",
        "import matplotlib.pyplot as plt\n",
        "from PIL import Image\n",
        "from tensorflow.python.framework import ops\n"
      ],
      "metadata": {
        "id": "NidRMgRUwwMw"
      },
      "execution_count": null,
      "outputs": []
    },
    {
      "cell_type": "code",
      "source": [
        "#crear conjuntos de datos para un modelo basado en regresion lineal tenemos lo que se llama aprendizaje supervisado\n",
        "#hay que tener un conjunto de entrenamientos para enseñar a nuestro modelo como debe trabajar\n",
        "#y un conjunto de test para poder proar si el modelo es bueno\n",
        "#el mnist para clasificar tecto a mano\n",
        "(x_train, y_train), (x_test, y_test) = tf.keras.datasets.mnist.load_data()"
      ],
      "metadata": {
        "colab": {
          "base_uri": "https://localhost:8080/"
        },
        "id": "1JwL2t8XzCwh",
        "outputId": "b8fd2d68-0934-4512-d6da-d47ee82f9d26"
      },
      "execution_count": null,
      "outputs": [
        {
          "output_type": "stream",
          "name": "stdout",
          "text": [
            "Downloading data from https://storage.googleapis.com/tensorflow/tf-keras-datasets/mnist.npz\n",
            "11490434/11490434 [==============================] - 0s 0us/step\n"
          ]
        }
      ]
    },
    {
      "cell_type": "code",
      "source": [
        "ops.reset_default_graph()\n"
      ],
      "metadata": {
        "id": "7O1eOyl91Bpy"
      },
      "execution_count": null,
      "outputs": []
    },
    {
      "cell_type": "code",
      "source": [
        "#crear unos cuantos valores a mano\n",
        "X = np.array([3.3,4.4,5.5,6.93,4.18,7.59,3.1])\n",
        "Y = np.array([1.7,2.6,2.0,3.19,5.41,2.5,1.22])"
      ],
      "metadata": {
        "id": "kMjx63gR1ilW"
      },
      "execution_count": null,
      "outputs": []
    },
    {
      "cell_type": "code",
      "source": [
        "#usar random para generar valores aleatorios para lo pesos y el bias (funcion de ajuste a nivel interno)\n",
        "rng = np.random"
      ],
      "metadata": {
        "id": "wiqvWooP2BjB"
      },
      "execution_count": null,
      "outputs": []
    },
    {
      "cell_type": "code",
      "source": [
        "#como en estos modelos hay que inicializar los pesos y los bias, que a nivel interno se usan Tensores(vector)\n",
        "#hay varias estrategias, vamos a lo facil\n",
        "W = tf.Variable(rng.random(), name = \"weight\")\n",
        "B = tf.Variable(rng.random(), name = \"bias\")"
      ],
      "metadata": {
        "id": "g3GU6qGQ2XS9"
      },
      "execution_count": null,
      "outputs": []
    },
    {
      "cell_type": "code",
      "source": [
        "#mates de cole, en Tensorflow la regresin lienal soporta cualquie funcion, debemos definir la ecuaciono de la funcion\n",
        "#en nuestro caso quetrmos montar una recta\n",
        "def linear_regression(x):\n",
        "  return W * x + B"
      ],
      "metadata": {
        "id": "bt_lcTcX34fD"
      },
      "execution_count": null,
      "outputs": []
    },
    {
      "cell_type": "code",
      "source": [
        "#hya que definir la funcin de reduccion de error, que es la que permitira ajustar los pesos y el bias\n",
        " #para que el sistema ajuste mejor la recta\n",
        " #en este caos queremos reducir el error cuadratico medio\n",
        "def mean_square(y_pred, y_true):\n",
        "  return tf.reduce_mean(tf.square(y_pred - y_true))\n"
      ],
      "metadata": {
        "id": "p7ujZ6s44RH5"
      },
      "execution_count": null,
      "outputs": []
    },
    {
      "cell_type": "code",
      "source": [
        "#el siguiente paso es el elestocastico, que es la funcion que va a optimizar\n",
        "#el concepto clave es la tasa de aprendizaje o learning rate (como de rapido queremos que aprenda)\n",
        "learning_rate=0.01 #mejor valores pequeños, se aprende mas despacio pero se obtienen mejores resultados, valores grandes mas rapidos pero pueden ser menos preciosos\n",
        "\n"
      ],
      "metadata": {
        "id": "f0mqL2sm5cO0"
      },
      "execution_count": null,
      "outputs": []
    },
    {
      "cell_type": "code",
      "source": [
        "from tensorflow.keras import optimizers\n",
        "optimizer = optimizers.SGD(learning_rate)"
      ],
      "metadata": {
        "id": "xdkiRpnh79iq"
      },
      "execution_count": null,
      "outputs": []
    },
    {
      "cell_type": "code",
      "source": [
        "#el siguiente paso es realizar la optimizacion del modelo\n",
        "def run_optimizations():\n",
        "  with tf.GradientTape() as g:\n",
        "    pred = linear_regression(X)\n",
        "    loss = mean_square(pred, Y)\n",
        "    #Se ajustan los gradientes (que es la pendiente de la recta)\n",
        "    gradients = g.gradient(loss, [W,B])\n",
        "    #se optimiza\n",
        "    optimizer.apply_gradients(zip(gradients, [W,B]))\n"
      ],
      "metadata": {
        "id": "7Na-_8Ji8Omg"
      },
      "execution_count": null,
      "outputs": []
    },
    {
      "cell_type": "code",
      "source": [
        "#ahora hay que entrenar el modelo\n",
        "#hay que definir cuantos pasos queremos que tenga nuestro entrenamiento\n",
        "training_steps=10000\n",
        "# definir caca cuentos entrenos quiero que me informe\n",
        "display_step=100\n",
        "\n",
        "for step in range (1, training_steps+1):\n",
        "  #en cada iteración se llama al optimizdor\n",
        "  run_optimizations()\n",
        "  #se imprime el reultado del entreno cada 100 veces\n",
        "  if step % display_step == 0:\n",
        "    pred= linear_regression(X)\n",
        "    loss = mean_square(pred, Y)\n",
        "    print(\"Paso: \", step, \" Error cuadratico medio es: \" , loss, \" Bias: \" , B.numpy(), \"Peso: \", W.numpy())\n"
      ],
      "metadata": {
        "colab": {
          "base_uri": "https://localhost:8080/"
        },
        "id": "_eq6phyR9hci",
        "outputId": "bdad43bc-8561-4826-ffc0-47861f761e35"
      },
      "execution_count": null,
      "outputs": [
        {
          "output_type": "stream",
          "name": "stdout",
          "text": [
            "Paso:  100  Error cuadratico medio es:  tf.Tensor(1.7584817, shape=(), dtype=float32)  Bias:  0.5743827 Peso:  0.39121574\n",
            "Paso:  200  Error cuadratico medio es:  tf.Tensor(1.7003471, shape=(), dtype=float32)  Bias:  0.81138676 Peso:  0.34814122\n",
            "Paso:  300  Error cuadratico medio es:  tf.Tensor(1.6600071, shape=(), dtype=float32)  Bias:  1.0088137 Peso:  0.31225964\n",
            "Paso:  400  Error cuadratico medio es:  tf.Tensor(1.6320149, shape=(), dtype=float32)  Bias:  1.1732728 Peso:  0.28236988\n",
            "Paso:  500  Error cuadratico medio es:  tf.Tensor(1.6125908, shape=(), dtype=float32)  Bias:  1.3102694 Peso:  0.25747132\n",
            "Paso:  600  Error cuadratico medio es:  tf.Tensor(1.5991124, shape=(), dtype=float32)  Bias:  1.4243886 Peso:  0.2367306\n",
            "Paso:  700  Error cuadratico medio es:  tf.Tensor(1.5897596, shape=(), dtype=float32)  Bias:  1.5194517 Peso:  0.21945328\n",
            "Paso:  800  Error cuadratico medio es:  tf.Tensor(1.5832694, shape=(), dtype=float32)  Bias:  1.59864 Peso:  0.20506114\n",
            "Paso:  900  Error cuadratico medio es:  tf.Tensor(1.5787659, shape=(), dtype=float32)  Bias:  1.6646053 Peso:  0.19307221\n",
            "Paso:  1000  Error cuadratico medio es:  tf.Tensor(1.5756407, shape=(), dtype=float32)  Bias:  1.7195559 Peso:  0.18308516\n",
            "Paso:  1100  Error cuadratico medio es:  tf.Tensor(1.5734723, shape=(), dtype=float32)  Bias:  1.7653291 Peso:  0.17476606\n",
            "Paso:  1200  Error cuadratico medio es:  tf.Tensor(1.5719677, shape=(), dtype=float32)  Bias:  1.8034589 Peso:  0.16783613\n",
            "Paso:  1300  Error cuadratico medio es:  tf.Tensor(1.5709237, shape=(), dtype=float32)  Bias:  1.8352213 Peso:  0.16206345\n",
            "Paso:  1400  Error cuadratico medio es:  tf.Tensor(1.5701991, shape=(), dtype=float32)  Bias:  1.8616797 Peso:  0.15725473\n",
            "Paso:  1500  Error cuadratico medio es:  tf.Tensor(1.5696961, shape=(), dtype=float32)  Bias:  1.88372 Peso:  0.153249\n",
            "Paso:  1600  Error cuadratico medio es:  tf.Tensor(1.5693473, shape=(), dtype=float32)  Bias:  1.9020798 Peso:  0.14991218\n",
            "Paso:  1700  Error cuadratico medio es:  tf.Tensor(1.5691051, shape=(), dtype=float32)  Bias:  1.9173743 Peso:  0.14713247\n",
            "Paso:  1800  Error cuadratico medio es:  tf.Tensor(1.5689372, shape=(), dtype=float32)  Bias:  1.9301146 Peso:  0.14481696\n",
            "Paso:  1900  Error cuadratico medio es:  tf.Tensor(1.5688206, shape=(), dtype=float32)  Bias:  1.9407277 Peso:  0.14288807\n",
            "Paso:  2000  Error cuadratico medio es:  tf.Tensor(1.5687398, shape=(), dtype=float32)  Bias:  1.9495682 Peso:  0.14128138\n",
            "Paso:  2100  Error cuadratico medio es:  tf.Tensor(1.5686836, shape=(), dtype=float32)  Bias:  1.9569324 Peso:  0.13994296\n",
            "Paso:  2200  Error cuadratico medio es:  tf.Tensor(1.5686445, shape=(), dtype=float32)  Bias:  1.9630661 Peso:  0.13882814\n",
            "Paso:  2300  Error cuadratico medio es:  tf.Tensor(1.5686177, shape=(), dtype=float32)  Bias:  1.9681762 Peso:  0.1378994\n",
            "Paso:  2400  Error cuadratico medio es:  tf.Tensor(1.5685989, shape=(), dtype=float32)  Bias:  1.9724332 Peso:  0.13712573\n",
            "Paso:  2500  Error cuadratico medio es:  tf.Tensor(1.5685861, shape=(), dtype=float32)  Bias:  1.9759789 Peso:  0.13648131\n",
            "Paso:  2600  Error cuadratico medio es:  tf.Tensor(1.5685769, shape=(), dtype=float32)  Bias:  1.9789327 Peso:  0.13594446\n",
            "Paso:  2700  Error cuadratico medio es:  tf.Tensor(1.5685707, shape=(), dtype=float32)  Bias:  1.9813933 Peso:  0.13549726\n",
            "Paso:  2800  Error cuadratico medio es:  tf.Tensor(1.5685662, shape=(), dtype=float32)  Bias:  1.9834434 Peso:  0.13512467\n",
            "Paso:  2900  Error cuadratico medio es:  tf.Tensor(1.5685633, shape=(), dtype=float32)  Bias:  1.985151 Peso:  0.13481432\n",
            "Paso:  3000  Error cuadratico medio es:  tf.Tensor(1.568561, shape=(), dtype=float32)  Bias:  1.9865732 Peso:  0.13455585\n",
            "Paso:  3100  Error cuadratico medio es:  tf.Tensor(1.5685598, shape=(), dtype=float32)  Bias:  1.9877579 Peso:  0.13434054\n",
            "Paso:  3200  Error cuadratico medio es:  tf.Tensor(1.5685586, shape=(), dtype=float32)  Bias:  1.9887447 Peso:  0.13416119\n",
            "Paso:  3300  Error cuadratico medio es:  tf.Tensor(1.568558, shape=(), dtype=float32)  Bias:  1.9895666 Peso:  0.1340118\n",
            "Paso:  3400  Error cuadratico medio es:  tf.Tensor(1.5685575, shape=(), dtype=float32)  Bias:  1.9902513 Peso:  0.13388735\n",
            "Paso:  3500  Error cuadratico medio es:  tf.Tensor(1.5685574, shape=(), dtype=float32)  Bias:  1.9908218 Peso:  0.13378368\n",
            "Paso:  3600  Error cuadratico medio es:  tf.Tensor(1.5685569, shape=(), dtype=float32)  Bias:  1.9912969 Peso:  0.13369732\n",
            "Paso:  3700  Error cuadratico medio es:  tf.Tensor(1.5685569, shape=(), dtype=float32)  Bias:  1.9916927 Peso:  0.13362539\n",
            "Paso:  3800  Error cuadratico medio es:  tf.Tensor(1.5685567, shape=(), dtype=float32)  Bias:  1.9920225 Peso:  0.13356544\n",
            "Paso:  3900  Error cuadratico medio es:  tf.Tensor(1.5685567, shape=(), dtype=float32)  Bias:  1.9922972 Peso:  0.13351554\n",
            "Paso:  4000  Error cuadratico medio es:  tf.Tensor(1.5685565, shape=(), dtype=float32)  Bias:  1.9925263 Peso:  0.13347392\n",
            "Paso:  4100  Error cuadratico medio es:  tf.Tensor(1.5685565, shape=(), dtype=float32)  Bias:  1.9927168 Peso:  0.13343929\n",
            "Paso:  4200  Error cuadratico medio es:  tf.Tensor(1.5685564, shape=(), dtype=float32)  Bias:  1.992875 Peso:  0.13341051\n",
            "Paso:  4300  Error cuadratico medio es:  tf.Tensor(1.5685565, shape=(), dtype=float32)  Bias:  1.9930072 Peso:  0.13338648\n",
            "Paso:  4400  Error cuadratico medio es:  tf.Tensor(1.5685565, shape=(), dtype=float32)  Bias:  1.9931178 Peso:  0.13336636\n",
            "Paso:  4500  Error cuadratico medio es:  tf.Tensor(1.5685564, shape=(), dtype=float32)  Bias:  1.9932089 Peso:  0.13334984\n",
            "Paso:  4600  Error cuadratico medio es:  tf.Tensor(1.5685564, shape=(), dtype=float32)  Bias:  1.9932854 Peso:  0.13333593\n",
            "Paso:  4700  Error cuadratico medio es:  tf.Tensor(1.5685564, shape=(), dtype=float32)  Bias:  1.993349 Peso:  0.13332438\n",
            "Paso:  4800  Error cuadratico medio es:  tf.Tensor(1.5685564, shape=(), dtype=float32)  Bias:  1.9934016 Peso:  0.1333148\n",
            "Paso:  4900  Error cuadratico medio es:  tf.Tensor(1.5685567, shape=(), dtype=float32)  Bias:  1.993447 Peso:  0.13330655\n",
            "Paso:  5000  Error cuadratico medio es:  tf.Tensor(1.5685565, shape=(), dtype=float32)  Bias:  1.9934827 Peso:  0.13330008\n",
            "Paso:  5100  Error cuadratico medio es:  tf.Tensor(1.5685564, shape=(), dtype=float32)  Bias:  1.9935141 Peso:  0.13329434\n",
            "Paso:  5200  Error cuadratico medio es:  tf.Tensor(1.5685565, shape=(), dtype=float32)  Bias:  1.9935379 Peso:  0.13329004\n",
            "Paso:  5300  Error cuadratico medio es:  tf.Tensor(1.5685565, shape=(), dtype=float32)  Bias:  1.9935617 Peso:  0.13328572\n",
            "Paso:  5400  Error cuadratico medio es:  tf.Tensor(1.5685565, shape=(), dtype=float32)  Bias:  1.9935782 Peso:  0.1332827\n",
            "Paso:  5500  Error cuadratico medio es:  tf.Tensor(1.5685564, shape=(), dtype=float32)  Bias:  1.9935901 Peso:  0.13328055\n",
            "Paso:  5600  Error cuadratico medio es:  tf.Tensor(1.5685564, shape=(), dtype=float32)  Bias:  1.993602 Peso:  0.13327837\n",
            "Paso:  5700  Error cuadratico medio es:  tf.Tensor(1.5685564, shape=(), dtype=float32)  Bias:  1.993614 Peso:  0.13327622\n",
            "Paso:  5800  Error cuadratico medio es:  tf.Tensor(1.5685565, shape=(), dtype=float32)  Bias:  1.9936259 Peso:  0.13327406\n",
            "Paso:  5900  Error cuadratico medio es:  tf.Tensor(1.5685564, shape=(), dtype=float32)  Bias:  1.993636 Peso:  0.13327219\n",
            "Paso:  6000  Error cuadratico medio es:  tf.Tensor(1.5685562, shape=(), dtype=float32)  Bias:  1.9936364 Peso:  0.13327214\n",
            "Paso:  6100  Error cuadratico medio es:  tf.Tensor(1.5685562, shape=(), dtype=float32)  Bias:  1.9936364 Peso:  0.13327214\n",
            "Paso:  6200  Error cuadratico medio es:  tf.Tensor(1.5685562, shape=(), dtype=float32)  Bias:  1.9936364 Peso:  0.13327214\n",
            "Paso:  6300  Error cuadratico medio es:  tf.Tensor(1.5685562, shape=(), dtype=float32)  Bias:  1.9936364 Peso:  0.13327214\n",
            "Paso:  6400  Error cuadratico medio es:  tf.Tensor(1.5685562, shape=(), dtype=float32)  Bias:  1.9936364 Peso:  0.13327214\n",
            "Paso:  6500  Error cuadratico medio es:  tf.Tensor(1.5685562, shape=(), dtype=float32)  Bias:  1.9936364 Peso:  0.13327214\n",
            "Paso:  6600  Error cuadratico medio es:  tf.Tensor(1.5685562, shape=(), dtype=float32)  Bias:  1.9936364 Peso:  0.13327214\n",
            "Paso:  6700  Error cuadratico medio es:  tf.Tensor(1.5685562, shape=(), dtype=float32)  Bias:  1.9936364 Peso:  0.13327214\n",
            "Paso:  6800  Error cuadratico medio es:  tf.Tensor(1.5685562, shape=(), dtype=float32)  Bias:  1.9936364 Peso:  0.13327214\n",
            "Paso:  6900  Error cuadratico medio es:  tf.Tensor(1.5685562, shape=(), dtype=float32)  Bias:  1.9936364 Peso:  0.13327214\n",
            "Paso:  7000  Error cuadratico medio es:  tf.Tensor(1.5685562, shape=(), dtype=float32)  Bias:  1.9936364 Peso:  0.13327214\n",
            "Paso:  7100  Error cuadratico medio es:  tf.Tensor(1.5685562, shape=(), dtype=float32)  Bias:  1.9936364 Peso:  0.13327214\n",
            "Paso:  7200  Error cuadratico medio es:  tf.Tensor(1.5685562, shape=(), dtype=float32)  Bias:  1.9936364 Peso:  0.13327214\n",
            "Paso:  7300  Error cuadratico medio es:  tf.Tensor(1.5685562, shape=(), dtype=float32)  Bias:  1.9936364 Peso:  0.13327214\n",
            "Paso:  7400  Error cuadratico medio es:  tf.Tensor(1.5685562, shape=(), dtype=float32)  Bias:  1.9936364 Peso:  0.13327214\n",
            "Paso:  7500  Error cuadratico medio es:  tf.Tensor(1.5685562, shape=(), dtype=float32)  Bias:  1.9936364 Peso:  0.13327214\n",
            "Paso:  7600  Error cuadratico medio es:  tf.Tensor(1.5685562, shape=(), dtype=float32)  Bias:  1.9936364 Peso:  0.13327214\n",
            "Paso:  7700  Error cuadratico medio es:  tf.Tensor(1.5685562, shape=(), dtype=float32)  Bias:  1.9936364 Peso:  0.13327214\n",
            "Paso:  7800  Error cuadratico medio es:  tf.Tensor(1.5685562, shape=(), dtype=float32)  Bias:  1.9936364 Peso:  0.13327214\n",
            "Paso:  7900  Error cuadratico medio es:  tf.Tensor(1.5685562, shape=(), dtype=float32)  Bias:  1.9936364 Peso:  0.13327214\n",
            "Paso:  8000  Error cuadratico medio es:  tf.Tensor(1.5685562, shape=(), dtype=float32)  Bias:  1.9936364 Peso:  0.13327214\n",
            "Paso:  8100  Error cuadratico medio es:  tf.Tensor(1.5685562, shape=(), dtype=float32)  Bias:  1.9936364 Peso:  0.13327214\n",
            "Paso:  8200  Error cuadratico medio es:  tf.Tensor(1.5685562, shape=(), dtype=float32)  Bias:  1.9936364 Peso:  0.13327214\n",
            "Paso:  8300  Error cuadratico medio es:  tf.Tensor(1.5685562, shape=(), dtype=float32)  Bias:  1.9936364 Peso:  0.13327214\n",
            "Paso:  8400  Error cuadratico medio es:  tf.Tensor(1.5685562, shape=(), dtype=float32)  Bias:  1.9936364 Peso:  0.13327214\n",
            "Paso:  8500  Error cuadratico medio es:  tf.Tensor(1.5685562, shape=(), dtype=float32)  Bias:  1.9936364 Peso:  0.13327214\n",
            "Paso:  8600  Error cuadratico medio es:  tf.Tensor(1.5685562, shape=(), dtype=float32)  Bias:  1.9936364 Peso:  0.13327214\n",
            "Paso:  8700  Error cuadratico medio es:  tf.Tensor(1.5685562, shape=(), dtype=float32)  Bias:  1.9936364 Peso:  0.13327214\n",
            "Paso:  8800  Error cuadratico medio es:  tf.Tensor(1.5685562, shape=(), dtype=float32)  Bias:  1.9936364 Peso:  0.13327214\n",
            "Paso:  8900  Error cuadratico medio es:  tf.Tensor(1.5685562, shape=(), dtype=float32)  Bias:  1.9936364 Peso:  0.13327214\n",
            "Paso:  9000  Error cuadratico medio es:  tf.Tensor(1.5685562, shape=(), dtype=float32)  Bias:  1.9936364 Peso:  0.13327214\n",
            "Paso:  9100  Error cuadratico medio es:  tf.Tensor(1.5685562, shape=(), dtype=float32)  Bias:  1.9936364 Peso:  0.13327214\n",
            "Paso:  9200  Error cuadratico medio es:  tf.Tensor(1.5685562, shape=(), dtype=float32)  Bias:  1.9936364 Peso:  0.13327214\n",
            "Paso:  9300  Error cuadratico medio es:  tf.Tensor(1.5685562, shape=(), dtype=float32)  Bias:  1.9936364 Peso:  0.13327214\n",
            "Paso:  9400  Error cuadratico medio es:  tf.Tensor(1.5685562, shape=(), dtype=float32)  Bias:  1.9936364 Peso:  0.13327214\n",
            "Paso:  9500  Error cuadratico medio es:  tf.Tensor(1.5685562, shape=(), dtype=float32)  Bias:  1.9936364 Peso:  0.13327214\n",
            "Paso:  9600  Error cuadratico medio es:  tf.Tensor(1.5685562, shape=(), dtype=float32)  Bias:  1.9936364 Peso:  0.13327214\n",
            "Paso:  9700  Error cuadratico medio es:  tf.Tensor(1.5685562, shape=(), dtype=float32)  Bias:  1.9936364 Peso:  0.13327214\n",
            "Paso:  9800  Error cuadratico medio es:  tf.Tensor(1.5685562, shape=(), dtype=float32)  Bias:  1.9936364 Peso:  0.13327214\n",
            "Paso:  9900  Error cuadratico medio es:  tf.Tensor(1.5685562, shape=(), dtype=float32)  Bias:  1.9936364 Peso:  0.13327214\n",
            "Paso:  10000  Error cuadratico medio es:  tf.Tensor(1.5685562, shape=(), dtype=float32)  Bias:  1.9936364 Peso:  0.13327214\n"
          ]
        }
      ]
    },
    {
      "cell_type": "code",
      "source": [
        "#vamos a crar un grafico para ver la recta y los puntos\n",
        "plt.plot(X,Y, 'ro', label=\"Datos origiales\")\n",
        "plt.plot(X, np.array(W*X*B), label= \"Datos Ajustados\")\n",
        "plt.legend()\n",
        "plt.show()"
      ],
      "metadata": {
        "colab": {
          "base_uri": "https://localhost:8080/",
          "height": 430
        },
        "id": "nz6rbiQ1BQJc",
        "outputId": "49cd2241-672a-40dd-f623-488534e5fbe9"
      },
      "execution_count": null,
      "outputs": [
        {
          "output_type": "display_data",
          "data": {
            "text/plain": [
              "<Figure size 640x480 with 1 Axes>"
            ],
            "image/png": "[encoded data removed]"
          },
          "metadata": {}
        }
      ]
    },
    {
      "cell_type": "markdown",
      "source": [],
      "metadata": {
        "id": "DqnveDsH3KIz"
      }
    }
  ]
}